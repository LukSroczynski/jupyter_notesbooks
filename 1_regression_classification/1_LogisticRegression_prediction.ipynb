{
 "cells": [
  {
   "cell_type": "markdown",
   "metadata": {},
   "source": [
    "# Import needed stuff"
   ]
  },
  {
   "cell_type": "code",
   "execution_count": 1,
   "metadata": {
    "collapsed": true
   },
   "outputs": [],
   "source": [
    "import pandas as pd\n",
    "\n",
    "from sklearn.dummy import DummyClassifier           # Simplest model - shouldn't be used for real problems\n",
    "from sklearn.linear_model import LogisticRegression # Linear Regression\n",
    "from sklearn.metrics import accuracy_score          # Scoring \n",
    "\n",
    "# Load CSV ( type: Pandas.Dataframe ) \n",
    "df = pd.read_csv(\"./data/polish_names.csv\")         "
   ]
  },
  {
   "cell_type": "markdown",
   "metadata": {},
   "source": [
    "# Info "
   ]
  },
  {
   "cell_type": "code",
   "execution_count": 9,
   "metadata": {},
   "outputs": [
    {
     "name": "stdout",
     "output_type": "stream",
     "text": [
      "<class 'pandas.core.frame.DataFrame'>\n",
      "RangeIndex: 1705 entries, 0 to 1704\n",
      "Data columns (total 3 columns):\n",
      "name      1705 non-null object\n",
      "gender    1705 non-null object\n",
      "target    1705 non-null int64\n",
      "dtypes: int64(1), object(2)\n",
      "memory usage: 40.0+ KB\n"
     ]
    }
   ],
   "source": [
    "df.info()"
   ]
  },
  {
   "cell_type": "markdown",
   "metadata": {},
   "source": [
    "# Prepare Stuff"
   ]
  },
  {
   "cell_type": "code",
   "execution_count": 10,
   "metadata": {},
   "outputs": [
    {
     "name": "stdout",
     "output_type": "stream",
     "text": [
      "DummyClassifier: (just for tests): 0.526099706745\n"
     ]
    }
   ],
   "source": [
    "# Convert to gender (f,m) to numeric values (0,1)\n",
    "df['target'] = df['gender'].map( lambda x: int(x == 'm') )\n",
    "\n",
    "# First MODEL - just to start - to have something that you can compare with... \n",
    "X = df[ [\"target\"] ].values  # MATRIX - features for our objects\n",
    "y = df['target'].values      # VECTOR - target variable\n",
    "\n",
    "# What feature is?\n",
    "\n",
    "# What Target variable is?\n",
    "\n",
    "\n",
    "# 1. Choose model - algorithm that will be used \n",
    "model = DummyClassifier()\n",
    "# 2. Train choosed model\n",
    "model.fit(X, y) \n",
    "# 3. Response from MODEL\n",
    "y_pred = model.predict(X)\n",
    "# 4. Check accuracy of the MODEL\n",
    "print( \"DummyClassifier: (just for tests):\", accuracy_score(y, y_pred) )\n",
    "\n",
    "# Make point 1,2,3,4 into Function\n",
    "def train_and_predict(X,y,model, success_metric=accuracy_score):\n",
    "    model.fit(X, y)\n",
    "    y_pred = model.predict(X)\n",
    "    return accuracy_score(y, y_pred)"
   ]
  },
  {
   "cell_type": "markdown",
   "metadata": {},
   "source": [
    "# Feature Engineering "
   ]
  },
  {
   "cell_type": "markdown",
   "metadata": {},
   "source": [
    "## Name Length"
   ]
  },
  {
   "cell_type": "code",
   "execution_count": 32,
   "metadata": {
    "collapsed": true
   },
   "outputs": [],
   "source": [
    "df[\"name_length\"] = df[\"name\"].map( lambda x: len(x))\n",
    "\n",
    "X = df[ [\"name_length\"] ].values\n",
    "y = df[\"target\"].values"
   ]
  },
  {
   "cell_type": "code",
   "execution_count": 33,
   "metadata": {},
   "outputs": [
    {
     "data": {
      "text/plain": [
       "0.60586510263929616"
      ]
     },
     "execution_count": 33,
     "metadata": {},
     "output_type": "execute_result"
    }
   ],
   "source": [
    "train_and_predict(X,y,LogisticRegression())"
   ]
  },
  {
   "cell_type": "markdown",
   "metadata": {},
   "source": [
    "## Vowels Counter"
   ]
  },
  {
   "cell_type": "code",
   "execution_count": 92,
   "metadata": {
    "collapsed": true
   },
   "outputs": [],
   "source": [
    "vowels = ['a', 'ą', 'e', 'ę', 'i', 'o', 'u', 'y']\n",
    "\n",
    "def count_vowels(name):\n",
    "    count = sum( map(lambda x: int(x in vowels), name.lower()) )\n",
    "    return count\n",
    "\n",
    "df[\"count_vowels\"] = df[\"name\"].map(count_vowels)\n",
    "\n",
    "X = df[ [\"name_length\", \"count_vowels\"] ]"
   ]
  },
  {
   "cell_type": "code",
   "execution_count": 93,
   "metadata": {},
   "outputs": [
    {
     "data": {
      "text/plain": [
       "0.71436950146627565"
      ]
     },
     "execution_count": 93,
     "metadata": {},
     "output_type": "execute_result"
    }
   ],
   "source": [
    "train_and_predict( X, y, LogisticRegression() )"
   ]
  },
  {
   "cell_type": "markdown",
   "metadata": {},
   "source": [
    "## First is Vowel"
   ]
  },
  {
   "cell_type": "code",
   "execution_count": 125,
   "metadata": {
    "collapsed": true
   },
   "outputs": [],
   "source": [
    "vowels = ['a', 'ą', 'e', 'ę', 'i', 'o', 'u', 'y']\n",
    "\n",
    "def isFirstVowel(name):\n",
    "    return name.lower()[0] in vowels\n",
    "\n",
    "df[\"vowel_first\"] = df[\"name\"].map(isFirstVowel)\n",
    "X = df[ [\"name_length\", \"count_vowels\", \"vowel_first\"] ]"
   ]
  },
  {
   "cell_type": "code",
   "execution_count": 126,
   "metadata": {},
   "outputs": [
    {
     "data": {
      "text/plain": [
       "0.72961876832844574"
      ]
     },
     "execution_count": 126,
     "metadata": {},
     "output_type": "execute_result"
    }
   ],
   "source": [
    "train_and_predict( X, y, LogisticRegression() )"
   ]
  },
  {
   "cell_type": "markdown",
   "metadata": {},
   "source": [
    "## First Letter"
   ]
  },
  {
   "cell_type": "code",
   "execution_count": 112,
   "metadata": {},
   "outputs": [
    {
     "name": "stdout",
     "output_type": "stream",
     "text": [
      "Tuple::: (array([0, 1, 0, 2, 3]), array(['a', 'aa', 'b', 'c'], dtype=object))\n",
      "Encoded values::: [0 1 0 2 3]\n",
      "Reference values::: ['a' 'aa' 'b' 'c']\n"
     ]
    }
   ],
   "source": [
    "# How factorize works? It basically encode abcd... to numeric values\n",
    "print(\"Tuple:::\", pd.factorize([\"a\",\"aa\", \"a\", \"b\",\"c\"]) ) # returns TUPLE with two arrays\n",
    "print(\"Encoded values:::\", pd.factorize([\"a\",\"aa\", \"a\", \"b\",\"c\"])[0] ) # First array\n",
    "print(\"Reference values:::\", pd.factorize([\"a\",\"aa\", \"a\", \"b\",\"c\"])[1] ) # Second array"
   ]
  },
  {
   "cell_type": "code",
   "execution_count": 119,
   "metadata": {
    "collapsed": true
   },
   "outputs": [],
   "source": [
    "# Let's extract first letter & encode it into \"first_letter_cnt\" column\n",
    "df[\"first_letter\"] = df[\"name\"].map(lambda x: x.lower()[0])\n",
    "df[\"first_letter_cnt\"] = pd.factorize(df[\"first_letter\"])[0]\n",
    "\n",
    "# and add it to our feature Matrix\n",
    "X = df[ [\"name_length\", \"count_vowels\", \"vowel_first\", \"first_letter_cnt\"] ]"
   ]
  },
  {
   "cell_type": "code",
   "execution_count": 120,
   "metadata": {},
   "outputs": [
    {
     "data": {
      "text/plain": [
       "0.72961876832844574"
      ]
     },
     "execution_count": 120,
     "metadata": {},
     "output_type": "execute_result"
    }
   ],
   "source": [
    "train_and_predict( X, y, LogisticRegression())"
   ]
  },
  {
   "cell_type": "markdown",
   "metadata": {},
   "source": [
    "## Last Letter"
   ]
  },
  {
   "cell_type": "code",
   "execution_count": 127,
   "metadata": {
    "collapsed": true
   },
   "outputs": [],
   "source": [
    "# Let's extract first letter & encode it into \"first_letter_cnt\" column\n",
    "df[\"last_letter\"] = df[\"name\"].map(lambda x: x.lower()[-1])\n",
    "df[\"last_letter_cnt\"] = pd.factorize(df[\"last_letter\"])[0]\n",
    "\n",
    "# and add it to our feature Matrix\n",
    "X = df[ [\"name_length\", \"count_vowels\", \"vowel_first\", \"first_letter_cnt\", \"last_letter_cnt\"] ]"
   ]
  },
  {
   "cell_type": "code",
   "execution_count": 128,
   "metadata": {},
   "outputs": [
    {
     "data": {
      "text/plain": [
       "0.74721407624633429"
      ]
     },
     "execution_count": 128,
     "metadata": {},
     "output_type": "execute_result"
    }
   ],
   "source": [
    "train_and_predict( X, y, LogisticRegression())"
   ]
  },
  {
   "cell_type": "markdown",
   "metadata": {},
   "source": [
    "## Last is Vowel"
   ]
  },
  {
   "cell_type": "code",
   "execution_count": 157,
   "metadata": {
    "collapsed": true
   },
   "outputs": [],
   "source": [
    "vowels = ['a', 'ą', 'e', 'ę', 'i', 'o', 'u', 'y']\n",
    "\n",
    "df[\"last_is_vowel\"] = df[\"name\"].map(lambda x: x.lower()[-1] in vowels )\n",
    "\n",
    "\n",
    "df[\"vowel_first\"] = df[\"name\"].map(isFirstVowel)\n",
    "X = df[ [\"name_length\", \"count_vowels\", \"vowel_first\", \"first_letter_cnt\", \"last_letter_cnt\", \"last_is_vowel\"] ]"
   ]
  },
  {
   "cell_type": "code",
   "execution_count": 160,
   "metadata": {},
   "outputs": [
    {
     "data": {
      "text/plain": [
       "0.9524926686217009"
      ]
     },
     "execution_count": 160,
     "metadata": {},
     "output_type": "execute_result"
    }
   ],
   "source": [
    "train_and_predict( X, y, LogisticRegression() )"
   ]
  },
  {
   "cell_type": "markdown",
   "metadata": {},
   "source": [
    "## Is last letter A "
   ]
  },
  {
   "cell_type": "code",
   "execution_count": 153,
   "metadata": {
    "collapsed": true
   },
   "outputs": [],
   "source": [
    "def is_last_letter_A(name):\n",
    "    return name.lower()[-1] is 'a'\n",
    "\n",
    "\n",
    "df[\"last_letter_is_A\"] = df[\"name\"].map(lambda x: int( is_last_letter_A(x) ))\n",
    "\n",
    "# and add it to our feature Matrix\n",
    "X = df[ [\"name_length\", \"count_vowels\", \"vowel_first\", \"first_letter_cnt\", \"last_letter_cnt\", \"last_letter_is_A\"] ]"
   ]
  },
  {
   "cell_type": "code",
   "execution_count": 154,
   "metadata": {},
   "outputs": [
    {
     "data": {
      "text/plain": [
       "0.99178885630498537"
      ]
     },
     "execution_count": 154,
     "metadata": {},
     "output_type": "execute_result"
    }
   ],
   "source": [
    "train_and_predict( X, y, LogisticRegression() )"
   ]
  },
  {
   "cell_type": "code",
   "execution_count": null,
   "metadata": {
    "collapsed": true
   },
   "outputs": [],
   "source": []
  },
  {
   "cell_type": "code",
   "execution_count": null,
   "metadata": {
    "collapsed": true
   },
   "outputs": [],
   "source": []
  }
 ],
 "metadata": {
  "kernelspec": {
   "display_name": "Python 3",
   "language": "python",
   "name": "python3"
  },
  "language_info": {
   "codemirror_mode": {
    "name": "ipython",
    "version": 3
   },
   "file_extension": ".py",
   "mimetype": "text/x-python",
   "name": "python",
   "nbconvert_exporter": "python",
   "pygments_lexer": "ipython3",
   "version": "3.6.1"
  }
 },
 "nbformat": 4,
 "nbformat_minor": 2
}

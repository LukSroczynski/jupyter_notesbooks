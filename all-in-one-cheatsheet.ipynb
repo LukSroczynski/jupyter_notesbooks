{
 "cells": [
  {
   "cell_type": "markdown",
   "metadata": {},
   "source": [
    "# Plain Python"
   ]
  },
  {
   "cell_type": "code",
   "execution_count": 36,
   "metadata": {},
   "outputs": [
    {
     "name": "stdout",
     "output_type": "stream",
     "text": [
      "Simple for-loop:  [1, 2, 3, 4, 5]\n",
      "DOUBLED Values:  [2, 4, 6, 8, 10]\n",
      "EVEN & DOUBLED:  [4, 8]\n"
     ]
    }
   ],
   "source": [
    "# Range\n",
    "sample_range = range(1, 6)\n",
    "\n",
    "print(\"Simple for-loop: \", [ i for i in sample_range] )                      \n",
    "print(\"DOUBLED Values: \",  [ i*2 for i in sample_range] ) \n",
    "print(\"EVEN & DOUBLED: \",  [ i*2 for i in sample_range if i % 2 == 0] )"
   ]
  },
  {
   "cell_type": "code",
   "execution_count": 135,
   "metadata": {},
   "outputs": [
    {
     "name": "stdout",
     "output_type": "stream",
     "text": [
      "Boolean = 2\n",
      "Numbers = 11\n"
     ]
    }
   ],
   "source": [
    "# Sum\n",
    "print(\"Boolean =\", sum([True, False, False, True]))\n",
    "print(\"Numbers =\", sum([1, 2, 3, 5]))"
   ]
  },
  {
   "cell_type": "markdown",
   "metadata": {},
   "source": [
    "# Plain Python: Functional Approach"
   ]
  },
  {
   "cell_type": "markdown",
   "metadata": {},
   "source": [
    "## Map(aFunction, aSequence)"
   ]
  },
  {
   "cell_type": "code",
   "execution_count": 59,
   "metadata": {
    "collapsed": true
   },
   "outputs": [],
   "source": [
    "items = [1,2,3,4,5]\n",
    "squared = []"
   ]
  },
  {
   "cell_type": "markdown",
   "metadata": {},
   "source": [
    "### Old approach"
   ]
  },
  {
   "cell_type": "code",
   "execution_count": 60,
   "metadata": {},
   "outputs": [],
   "source": [
    "for i in items:\n",
    "    squared.append(i**2)"
   ]
  },
  {
   "cell_type": "markdown",
   "metadata": {},
   "source": [
    "### Map with Function "
   ]
  },
  {
   "cell_type": "code",
   "execution_count": 58,
   "metadata": {},
   "outputs": [
    {
     "data": {
      "text/plain": [
       "[1, 4, 9, 16, 25]"
      ]
     },
     "execution_count": 58,
     "metadata": {},
     "output_type": "execute_result"
    }
   ],
   "source": [
    "def sqr(x): return x ** 2\n",
    "list(map(sqr, items))"
   ]
  },
  {
   "cell_type": "markdown",
   "metadata": {},
   "source": [
    "### Map with Lambda"
   ]
  },
  {
   "cell_type": "code",
   "execution_count": 56,
   "metadata": {},
   "outputs": [
    {
     "data": {
      "text/plain": [
       "[1, 4, 9, 16, 25]"
      ]
     },
     "execution_count": 56,
     "metadata": {},
     "output_type": "execute_result"
    }
   ],
   "source": [
    "list( map(lambda x: x**2, items) ) # returns list of squared objects"
   ]
  },
  {
   "cell_type": "markdown",
   "metadata": {},
   "source": [
    "### List of Functions (as sequence)"
   ]
  },
  {
   "cell_type": "code",
   "execution_count": 119,
   "metadata": {},
   "outputs": [
    {
     "name": "stdout",
     "output_type": "stream",
     "text": [
      "[0, 0]\n",
      "[1, 1]\n",
      "[4, 8]\n",
      "[9, 27]\n",
      "[16, 64]\n"
     ]
    }
   ],
   "source": [
    "def square(x): return (x**2)\n",
    "def cube(x): return (x**3)\n",
    "\n",
    "funcs = [square, cube]\n",
    "\n",
    "for r in range(5):\n",
    "    print( list(map( lambda x: x(r), funcs)) )"
   ]
  },
  {
   "cell_type": "markdown",
   "metadata": {},
   "source": [
    "## Filter(aFunction, aSequence)"
   ]
  },
  {
   "cell_type": "code",
   "execution_count": null,
   "metadata": {},
   "outputs": [],
   "source": []
  },
  {
   "cell_type": "markdown",
   "metadata": {},
   "source": [
    "## Reduce(aFunction, aSequence)"
   ]
  },
  {
   "cell_type": "code",
   "execution_count": null,
   "metadata": {
    "collapsed": true
   },
   "outputs": [],
   "source": []
  },
  {
   "cell_type": "markdown",
   "metadata": {},
   "source": [
    "## Lambda"
   ]
  },
  {
   "cell_type": "code",
   "execution_count": null,
   "metadata": {
    "collapsed": true
   },
   "outputs": [],
   "source": []
  },
  {
   "cell_type": "markdown",
   "metadata": {},
   "source": [
    "## List Comprehension"
   ]
  },
  {
   "cell_type": "code",
   "execution_count": null,
   "metadata": {
    "collapsed": true
   },
   "outputs": [],
   "source": []
  },
  {
   "cell_type": "markdown",
   "metadata": {},
   "source": [
    "# Numpy"
   ]
  },
  {
   "cell_type": "code",
   "execution_count": 15,
   "metadata": {
    "collapsed": true
   },
   "outputs": [],
   "source": [
    "# Numpy\n",
    "import numpy as np\n",
    "\n",
    "# Just an array\n",
    "np_sample_array = np.array([1,2,3,6])"
   ]
  },
  {
   "cell_type": "code",
   "execution_count": 16,
   "metadata": {},
   "outputs": [
    {
     "data": {
      "text/plain": [
       "array([ 6,  8, 10])"
      ]
     },
     "execution_count": 16,
     "metadata": {},
     "output_type": "execute_result"
    }
   ],
   "source": [
    "# ADDITION\n",
    "np.array([1, 2, 3]) + np.array([5, 6, 7])"
   ]
  },
  {
   "cell_type": "code",
   "execution_count": 17,
   "metadata": {},
   "outputs": [
    {
     "name": "stdout",
     "output_type": "stream",
     "text": [
      "3.0\n",
      "3.0\n"
     ]
    }
   ],
   "source": [
    "# MEAN, AVERAGE\n",
    "# 1+2+3+6  => 12  \n",
    "# 12/4     => 3\n",
    "print( np.mean([1, 2, 3, 6]) ) \n",
    "print( np.average([1, 2, 3, 6]) ) "
   ]
  },
  {
   "cell_type": "code",
   "execution_count": 18,
   "metadata": {},
   "outputs": [
    {
     "name": "stdout",
     "output_type": "stream",
     "text": [
      "EVEN:  2.5\n",
      "ODD:   2.0\n"
     ]
    }
   ],
   "source": [
    "# MEDIAN - it's just the middle number\n",
    "#### EVEN: 2+3 => 5/2 => 2.5\n",
    "#### ODD: 2\n",
    "print(\"EVEN: \", np.median([1, 2, 3, 6]) )  \n",
    "print(\"ODD:  \", np.median([1, 2, 3]) ) "
   ]
  },
  {
   "cell_type": "code",
   "execution_count": 19,
   "metadata": {},
   "outputs": [
    {
     "name": "stdout",
     "output_type": "stream",
     "text": [
      "ONLY First element is TRUE:   [ True False False False]\n",
      "ONLY Second element is TRUE:  [False  True False False]\n",
      "ONLY elements bigger than 2:  [False False  True  True]\n",
      "ONLY elements that are EVEN:   [False  True False  True]\n"
     ]
    }
   ],
   "source": [
    "print(\"ONLY First element is TRUE:  \", np_sample_array == 1)\n",
    "print(\"ONLY Second element is TRUE: \", np_sample_array == 2) \n",
    "print(\"ONLY elements bigger than 2: \", np_sample_array > 2) \n",
    "print(\"ONLY elements that are EVEN:  \", np_sample_array % 2 == 0) "
   ]
  },
  {
   "cell_type": "markdown",
   "metadata": {},
   "source": [
    "# Pandas"
   ]
  },
  {
   "cell_type": "code",
   "execution_count": 28,
   "metadata": {
    "collapsed": true
   },
   "outputs": [],
   "source": [
    "import pandas as pd\n",
    "\n",
    "np.random.seed(2) \n",
    "rows = 15\n",
    "\n",
    "df = pd.DataFrame({\n",
    "    'height': np.random.randint(140, 200, rows),\n",
    "    'weight': np.random.randint(50, 80, rows),\n",
    "    'gender': np.random.randint(0,2, rows)\n",
    "})\n",
    "\n",
    "df[\"additional_column\"] = \"with description\""
   ]
  },
  {
   "cell_type": "code",
   "execution_count": 29,
   "metadata": {
    "scrolled": true
   },
   "outputs": [
    {
     "data": {
      "text/html": [
       "<div>\n",
       "<style>\n",
       "    .dataframe thead tr:only-child th {\n",
       "        text-align: right;\n",
       "    }\n",
       "\n",
       "    .dataframe thead th {\n",
       "        text-align: left;\n",
       "    }\n",
       "\n",
       "    .dataframe tbody tr th {\n",
       "        vertical-align: top;\n",
       "    }\n",
       "</style>\n",
       "<table border=\"1\" class=\"dataframe\">\n",
       "  <thead>\n",
       "    <tr style=\"text-align: right;\">\n",
       "      <th></th>\n",
       "      <th>gender</th>\n",
       "      <th>height</th>\n",
       "      <th>weight</th>\n",
       "      <th>additional_column</th>\n",
       "      <th>ratio</th>\n",
       "    </tr>\n",
       "  </thead>\n",
       "  <tbody>\n",
       "    <tr>\n",
       "      <th>0</th>\n",
       "      <td>0</td>\n",
       "      <td>180</td>\n",
       "      <td>65</td>\n",
       "      <td>with description</td>\n",
       "      <td>2.769231</td>\n",
       "    </tr>\n",
       "    <tr>\n",
       "      <th>1</th>\n",
       "      <td>1</td>\n",
       "      <td>155</td>\n",
       "      <td>76</td>\n",
       "      <td>with description</td>\n",
       "      <td>2.039474</td>\n",
       "    </tr>\n",
       "    <tr>\n",
       "      <th>2</th>\n",
       "      <td>0</td>\n",
       "      <td>185</td>\n",
       "      <td>70</td>\n",
       "      <td>with description</td>\n",
       "      <td>2.642857</td>\n",
       "    </tr>\n",
       "    <tr>\n",
       "      <th>3</th>\n",
       "      <td>0</td>\n",
       "      <td>148</td>\n",
       "      <td>78</td>\n",
       "      <td>with description</td>\n",
       "      <td>1.897436</td>\n",
       "    </tr>\n",
       "    <tr>\n",
       "      <th>4</th>\n",
       "      <td>1</td>\n",
       "      <td>162</td>\n",
       "      <td>70</td>\n",
       "      <td>with description</td>\n",
       "      <td>2.314286</td>\n",
       "    </tr>\n",
       "  </tbody>\n",
       "</table>\n",
       "</div>"
      ],
      "text/plain": [
       "   gender  height  weight additional_column     ratio\n",
       "0       0     180      65  with description  2.769231\n",
       "1       1     155      76  with description  2.039474\n",
       "2       0     185      70  with description  2.642857\n",
       "3       0     148      78  with description  1.897436\n",
       "4       1     162      70  with description  2.314286"
      ]
     },
     "execution_count": 29,
     "metadata": {},
     "output_type": "execute_result"
    }
   ],
   "source": [
    "df['ratio'] = df['height'] / df['weight']\n",
    "df.head()"
   ]
  },
  {
   "cell_type": "markdown",
   "metadata": {},
   "source": [
    "# Info\n",
    "`[ [ MATRIX ] ]` <br>\n",
    "`[ VECTOR ]`<br>\n",
    "- `[1, 2, 3]` => Vector\n",
    "- `[[1], [2], [3]]` => Vector of Vectors => Matrix => one features for each\n",
    "- `[[1, 10], [2, 20], [3, 30]]` => Vector of Vectors => Matrix => two features for each"
   ]
  },
  {
   "cell_type": "code",
   "execution_count": 33,
   "metadata": {
    "collapsed": true
   },
   "outputs": [],
   "source": [
    "X = df[ ['gender'] ].values # Matrix\n",
    "y = df['gender'].values     # Vector"
   ]
  },
  {
   "cell_type": "code",
   "execution_count": null,
   "metadata": {
    "collapsed": true
   },
   "outputs": [],
   "source": []
  },
  {
   "cell_type": "code",
   "execution_count": null,
   "metadata": {
    "collapsed": true
   },
   "outputs": [],
   "source": []
  }
 ],
 "metadata": {
  "kernelspec": {
   "display_name": "Python 3",
   "language": "python",
   "name": "python3"
  },
  "language_info": {
   "codemirror_mode": {
    "name": "ipython",
    "version": 3
   },
   "file_extension": ".py",
   "mimetype": "text/x-python",
   "name": "python",
   "nbconvert_exporter": "python",
   "pygments_lexer": "ipython3",
   "version": "3.6.1"
  }
 },
 "nbformat": 4,
 "nbformat_minor": 2
}

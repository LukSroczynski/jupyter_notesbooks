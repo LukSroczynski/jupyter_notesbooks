{
 "cells": [
  {
   "cell_type": "code",
   "execution_count": 50,
   "metadata": {},
   "outputs": [
    {
     "name": "stdout",
     "output_type": "stream",
     "text": [
      "[1, 2, 3, 4, 5]\n",
      "[2, 4, 6, 8, 10]\n",
      "[4, 8]\n"
     ]
    }
   ],
   "source": [
    "# Range\n",
    "counter = range(1, 6)\n",
    "print( [counter for counter in counter] )                      # Just years\n",
    "print( [counter * 2 for counter in counter] )                  # Doubled values\n",
    "print( [counter * 2 for counter in counter if counter % 2 == 0] ) # Keep only even numbers and doubled values"
   ]
  },
  {
   "cell_type": "code",
   "execution_count": 71,
   "metadata": {
    "collapsed": true
   },
   "outputs": [],
   "source": [
    "# Numpy\n",
    "import numpy as np\n",
    "\n",
    "# Just an array\n",
    "np_sample_array = np.array([1,2,3,6])"
   ]
  },
  {
   "cell_type": "code",
   "execution_count": 72,
   "metadata": {},
   "outputs": [
    {
     "data": {
      "text/plain": [
       "array([ 6,  8, 10])"
      ]
     },
     "execution_count": 72,
     "metadata": {},
     "output_type": "execute_result"
    }
   ],
   "source": [
    "# ADDITION\n",
    "np.array([1, 2, 3]) + np.array([5, 6, 7])"
   ]
  },
  {
   "cell_type": "code",
   "execution_count": 73,
   "metadata": {},
   "outputs": [
    {
     "name": "stdout",
     "output_type": "stream",
     "text": [
      "3.0\n",
      "3.0\n"
     ]
    }
   ],
   "source": [
    "# MEAN, AVERAGE\n",
    "# 1+2+3+6  => 12  \n",
    "# 12/4     => 3\n",
    "print( np.mean([1, 2, 3, 6]) ) \n",
    "print( np.average([1, 2, 3, 6]) ) "
   ]
  },
  {
   "cell_type": "code",
   "execution_count": 74,
   "metadata": {},
   "outputs": [
    {
     "name": "stdout",
     "output_type": "stream",
     "text": [
      "EVEN:  2.5\n",
      "ODD:   2.0\n"
     ]
    }
   ],
   "source": [
    "# MEDIAN - it's just the middle number\n",
    "#### EVEN: 2+3 => 5/2 => 2.5\n",
    "#### ODD: 2\n",
    "print(\"EVEN: \", np.median([1, 2, 3, 6]) )  \n",
    "print(\"ODD:  \", np.median([1, 2, 3]) ) "
   ]
  },
  {
   "cell_type": "code",
   "execution_count": 75,
   "metadata": {},
   "outputs": [
    {
     "name": "stdout",
     "output_type": "stream",
     "text": [
      "ONLY First element is TRUE:   [ True False False False]\n",
      "ONLY Second element is TRUE:  [False  True False False]\n",
      "ONLY elements bigger than 2:  [False False  True  True]\n",
      "ONLY elements that are EVEN:   [False  True False  True]\n"
     ]
    }
   ],
   "source": [
    "print(\"ONLY First element is TRUE:  \", np_sample_array == 1)\n",
    "print(\"ONLY Second element is TRUE: \", np_sample_array == 2) \n",
    "print(\"ONLY elements bigger than 2: \", np_sample_array > 2) \n",
    "print(\"ONLY elements that are EVEN:  \", np_sample_array %2 == 0) "
   ]
  },
  {
   "cell_type": "code",
   "execution_count": null,
   "metadata": {
    "collapsed": true
   },
   "outputs": [],
   "source": []
  },
  {
   "cell_type": "code",
   "execution_count": null,
   "metadata": {
    "collapsed": true
   },
   "outputs": [],
   "source": []
  }
 ],
 "metadata": {
  "kernelspec": {
   "display_name": "Python 3",
   "language": "python",
   "name": "python3"
  },
  "language_info": {
   "codemirror_mode": {
    "name": "ipython",
    "version": 3
   },
   "file_extension": ".py",
   "mimetype": "text/x-python",
   "name": "python",
   "nbconvert_exporter": "python",
   "pygments_lexer": "ipython3",
   "version": "3.6.1"
  }
 },
 "nbformat": 4,
 "nbformat_minor": 2
}

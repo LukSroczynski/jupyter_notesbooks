{
 "cells": [
  {
   "cell_type": "markdown",
   "metadata": {},
   "source": [
    "# Plain Python"
   ]
  },
  {
   "cell_type": "code",
   "execution_count": 185,
   "metadata": {},
   "outputs": [
    {
     "name": "stdout",
     "output_type": "stream",
     "text": [
      "Simple for-loop:  [1, 2, 3, 4, 5]\n",
      "DOUBLED Values:  [2, 4, 6, 8, 10]\n",
      "EVEN & DOUBLED:  [4, 8]\n"
     ]
    }
   ],
   "source": [
    "# Range - it's function, even more precisely it's generator \n",
    "sample_range = range(1, 6)\n",
    "\n",
    "print(\"Simple for-loop: \", [ i for i in sample_range] )                      \n",
    "print(\"DOUBLED Values: \",  [ i*2 for i in sample_range] ) \n",
    "print(\"EVEN & DOUBLED: \",  [ i*2 for i in sample_range if i % 2 == 0] )"
   ]
  },
  {
   "cell_type": "code",
   "execution_count": 135,
   "metadata": {},
   "outputs": [
    {
     "name": "stdout",
     "output_type": "stream",
     "text": [
      "Boolean = 2\n",
      "Numbers = 11\n"
     ]
    }
   ],
   "source": [
    "# Sum\n",
    "print(\"Boolean =\", sum([True, False, False, True]))\n",
    "print(\"Numbers =\", sum([1, 2, 3, 5]))"
   ]
  },
  {
   "cell_type": "markdown",
   "metadata": {},
   "source": [
    "# Useful utils"
   ]
  },
  {
   "cell_type": "code",
   "execution_count": 194,
   "metadata": {},
   "outputs": [
    {
     "name": "stdout",
     "output_type": "stream",
     "text": [
      "CPU times: user 3 µs, sys: 1e+03 ns, total: 4 µs\n",
      "Wall time: 7.87 µs\n"
     ]
    }
   ],
   "source": [
    "%time # measure time"
   ]
  },
  {
   "cell_type": "markdown",
   "metadata": {},
   "source": [
    "# Plain Python: Functional Approach"
   ]
  },
  {
   "cell_type": "markdown",
   "metadata": {},
   "source": [
    "## Map(aFunction, aSequence)\n",
    "Map is built-in so it has a bit better performence than coded `for-loop`"
   ]
  },
  {
   "cell_type": "code",
   "execution_count": 141,
   "metadata": {
    "collapsed": true
   },
   "outputs": [],
   "source": [
    "items = [1,2,3,4,5]\n",
    "squared = []"
   ]
  },
  {
   "cell_type": "markdown",
   "metadata": {},
   "source": [
    "### Old approach"
   ]
  },
  {
   "cell_type": "code",
   "execution_count": 137,
   "metadata": {
    "collapsed": true
   },
   "outputs": [],
   "source": [
    "for i in items:\n",
    "    squared.append(i**2)"
   ]
  },
  {
   "cell_type": "markdown",
   "metadata": {},
   "source": [
    "### Map with Function "
   ]
  },
  {
   "cell_type": "code",
   "execution_count": 138,
   "metadata": {},
   "outputs": [
    {
     "data": {
      "text/plain": [
       "[1, 4, 9, 16, 25]"
      ]
     },
     "execution_count": 138,
     "metadata": {},
     "output_type": "execute_result"
    }
   ],
   "source": [
    "def sqr(x): return x ** 2\n",
    "list(map(sqr, items))"
   ]
  },
  {
   "cell_type": "markdown",
   "metadata": {},
   "source": [
    "### Map with Lambda"
   ]
  },
  {
   "cell_type": "code",
   "execution_count": 139,
   "metadata": {},
   "outputs": [
    {
     "data": {
      "text/plain": [
       "[1, 4, 9, 16, 25]"
      ]
     },
     "execution_count": 139,
     "metadata": {},
     "output_type": "execute_result"
    }
   ],
   "source": [
    "list( map(lambda x: x**2, items) ) # returns list of squared objects"
   ]
  },
  {
   "cell_type": "markdown",
   "metadata": {},
   "source": [
    "### List of Functions (as sequence)"
   ]
  },
  {
   "cell_type": "code",
   "execution_count": 157,
   "metadata": {
    "scrolled": true
   },
   "outputs": [
    {
     "name": "stdout",
     "output_type": "stream",
     "text": [
      "[0, 0]\n",
      "[1, 1]\n",
      "[4, 8]\n",
      "[9, 27]\n",
      "[16, 64]\n"
     ]
    }
   ],
   "source": [
    "def square(x): return (x**2)\n",
    "def cube(x): return (x**3)\n",
    "\n",
    "funcs = [square, cube]\n",
    "\n",
    "for r in range(5):\n",
    "    print( list(map( lambda x: x(r), funcs)) )"
   ]
  },
  {
   "cell_type": "markdown",
   "metadata": {},
   "source": [
    "## Filter(aFunction, aSequence)"
   ]
  },
  {
   "cell_type": "code",
   "execution_count": null,
   "metadata": {
    "collapsed": true
   },
   "outputs": [],
   "source": []
  },
  {
   "cell_type": "markdown",
   "metadata": {},
   "source": [
    "## Reduce(aFunction, aSequence)"
   ]
  },
  {
   "cell_type": "code",
   "execution_count": null,
   "metadata": {
    "collapsed": true
   },
   "outputs": [],
   "source": []
  },
  {
   "cell_type": "markdown",
   "metadata": {},
   "source": [
    "## Lambda"
   ]
  },
  {
   "cell_type": "code",
   "execution_count": null,
   "metadata": {
    "collapsed": true
   },
   "outputs": [],
   "source": []
  },
  {
   "cell_type": "markdown",
   "metadata": {},
   "source": [
    "## List Comprehension"
   ]
  },
  {
   "cell_type": "code",
   "execution_count": 6,
   "metadata": {},
   "outputs": [
    {
     "name": "stdout",
     "output_type": "stream",
     "text": [
      "[1, 4, 9, 16, 25]\n"
     ]
    }
   ],
   "source": [
    "print( [x*x for x in [1,2,3,4,5]] )"
   ]
  },
  {
   "cell_type": "markdown",
   "metadata": {},
   "source": [
    "# Numpy\n",
    "Library that operate on VECTORS. It means that when you do something you always operate on VECTOR not a SINGLE VALUE."
   ]
  },
  {
   "cell_type": "code",
   "execution_count": 11,
   "metadata": {
    "collapsed": true
   },
   "outputs": [],
   "source": [
    "import numpy as np"
   ]
  },
  {
   "cell_type": "code",
   "execution_count": 14,
   "metadata": {},
   "outputs": [],
   "source": [
    "# Just an array\n",
    "np_sample_array = np.array( [1,2,3,6] )"
   ]
  },
  {
   "cell_type": "code",
   "execution_count": 16,
   "metadata": {},
   "outputs": [
    {
     "data": {
      "text/plain": [
       "array([ 6,  8, 10])"
      ]
     },
     "execution_count": 16,
     "metadata": {},
     "output_type": "execute_result"
    }
   ],
   "source": [
    "# ADDITION ( Vector + Vector )\n",
    "np.array([1, 2, 3]) + np.array([5, 6, 7])"
   ]
  },
  {
   "cell_type": "code",
   "execution_count": 17,
   "metadata": {},
   "outputs": [
    {
     "name": "stdout",
     "output_type": "stream",
     "text": [
      "3.0\n",
      "3.0\n"
     ]
    }
   ],
   "source": [
    "# MEAN, AVERAGE\n",
    "# 1+2+3+6  => 12  \n",
    "# 12/4     => 3\n",
    "print( np.mean([1, 2, 3, 6]) ) \n",
    "print( np.average([1, 2, 3, 6]) ) "
   ]
  },
  {
   "cell_type": "code",
   "execution_count": 18,
   "metadata": {},
   "outputs": [
    {
     "name": "stdout",
     "output_type": "stream",
     "text": [
      "EVEN:  2.5\n",
      "ODD:   2.0\n"
     ]
    }
   ],
   "source": [
    "# MEDIAN - it's just the middle number\n",
    "#### EVEN: 2+3 => 5/2 => 2.5\n",
    "#### ODD: 2\n",
    "print(\"EVEN: \", np.median([1, 2, 3, 6]) )  \n",
    "print(\"ODD:  \", np.median([1, 2, 3]) ) "
   ]
  },
  {
   "cell_type": "code",
   "execution_count": 23,
   "metadata": {},
   "outputs": [
    {
     "name": "stdout",
     "output_type": "stream",
     "text": [
      "ONLY First element is TRUE:    [ True False False False]\n",
      "ONLY Second element is TRUE:   [False  True False False]\n",
      "ONLY elements bigger than 2:   [False False  True  True]\n",
      "ONLY elements that are EVEN:   [False  True False  True]\n"
     ]
    },
    {
     "data": {
      "text/plain": [
       "array([ 22,  12,   6,  43,   8, 654])"
      ]
     },
     "execution_count": 23,
     "metadata": {},
     "output_type": "execute_result"
    }
   ],
   "source": [
    "# Filters \n",
    "print(\"ONLY First element is TRUE:   \", np_sample_array == 1)\n",
    "print(\"ONLY Second element is TRUE:  \", np_sample_array == 2) \n",
    "print(\"ONLY elements bigger than 2:  \", np_sample_array > 2) \n",
    "print(\"ONLY elements that are EVEN:  \", np_sample_array % 2 == 0)\n",
    "\n",
    "# Practical Example of Filter:\n",
    "arr = np.array(  [1,22,3,12,5,6,43,8,654] ) \n",
    "arr[ arr > 5 ]"
   ]
  },
  {
   "cell_type": "markdown",
   "metadata": {},
   "source": [
    "# Pandas\n",
    "Uses `numpy` behind the scences. <br>\n",
    "`[ [ MATRIX ] ]` - in other words it's `DataFrame`. Obviously df it's more complex than Matrix<br>\n",
    "`[ VECTOR ]` - in other words it's `Series`<br>\n",
    "- `[1, 2, 3]` => Vector\n",
    "- `[[1], [2], [3]]` => Vector of Vectors => Matrix => one features for each\n",
    "- `[[1, 10], [2, 20], [3, 30]]` => Vector of Vectors => Matrix => two features for each"
   ]
  },
  {
   "cell_type": "code",
   "execution_count": 43,
   "metadata": {
    "collapsed": true
   },
   "outputs": [],
   "source": [
    "import pandas as pd\n",
    "\n",
    "np.random.seed(2) \n",
    "rows = 15\n",
    "\n",
    "df = pd.DataFrame({\n",
    "    'height': np.random.randint(140, 200, rows),\n",
    "    'weight': np.random.randint(50, 80, rows),\n",
    "    'gender': np.random.randint(0,2, rows)\n",
    "})\n"
   ]
  },
  {
   "cell_type": "code",
   "execution_count": 44,
   "metadata": {
    "collapsed": true
   },
   "outputs": [],
   "source": [
    "X = df[ ['gender'] ].values # X - [ [ Matrix ] ]\n",
    "y = df['gender'].values     # y - [ Vector ]"
   ]
  },
  {
   "cell_type": "code",
   "execution_count": 45,
   "metadata": {},
   "outputs": [
    {
     "data": {
      "text/html": [
       "<div>\n",
       "<style>\n",
       "    .dataframe thead tr:only-child th {\n",
       "        text-align: right;\n",
       "    }\n",
       "\n",
       "    .dataframe thead th {\n",
       "        text-align: left;\n",
       "    }\n",
       "\n",
       "    .dataframe tbody tr th {\n",
       "        vertical-align: top;\n",
       "    }\n",
       "</style>\n",
       "<table border=\"1\" class=\"dataframe\">\n",
       "  <thead>\n",
       "    <tr style=\"text-align: right;\">\n",
       "      <th></th>\n",
       "      <th>gender</th>\n",
       "      <th>height</th>\n",
       "      <th>weight</th>\n",
       "      <th>ratio</th>\n",
       "    </tr>\n",
       "  </thead>\n",
       "  <tbody>\n",
       "    <tr>\n",
       "      <th>0</th>\n",
       "      <td>0</td>\n",
       "      <td>180</td>\n",
       "      <td>65</td>\n",
       "      <td>2.769231</td>\n",
       "    </tr>\n",
       "  </tbody>\n",
       "</table>\n",
       "</div>"
      ],
      "text/plain": [
       "   gender  height  weight     ratio\n",
       "0       0     180      65  2.769231"
      ]
     },
     "execution_count": 45,
     "metadata": {},
     "output_type": "execute_result"
    }
   ],
   "source": [
    "df['ratio'] = df['height'] / df['weight'] # We operate here on VECTORS not on SINGLE ELEMENTS\n",
    "df.head(1)"
   ]
  },
  {
   "cell_type": "code",
   "execution_count": 46,
   "metadata": {},
   "outputs": [
    {
     "data": {
      "text/html": [
       "<div>\n",
       "<style>\n",
       "    .dataframe thead tr:only-child th {\n",
       "        text-align: right;\n",
       "    }\n",
       "\n",
       "    .dataframe thead th {\n",
       "        text-align: left;\n",
       "    }\n",
       "\n",
       "    .dataframe tbody tr th {\n",
       "        vertical-align: top;\n",
       "    }\n",
       "</style>\n",
       "<table border=\"1\" class=\"dataframe\">\n",
       "  <thead>\n",
       "    <tr style=\"text-align: right;\">\n",
       "      <th></th>\n",
       "      <th>gender</th>\n",
       "      <th>height</th>\n",
       "      <th>weight</th>\n",
       "      <th>ratio</th>\n",
       "    </tr>\n",
       "  </thead>\n",
       "  <tbody>\n",
       "    <tr>\n",
       "      <th>5</th>\n",
       "      <td>1</td>\n",
       "      <td>183</td>\n",
       "      <td>55</td>\n",
       "      <td>3.327273</td>\n",
       "    </tr>\n",
       "    <tr>\n",
       "      <th>8</th>\n",
       "      <td>0</td>\n",
       "      <td>180</td>\n",
       "      <td>56</td>\n",
       "      <td>3.214286</td>\n",
       "    </tr>\n",
       "  </tbody>\n",
       "</table>\n",
       "</div>"
      ],
      "text/plain": [
       "   gender  height  weight     ratio\n",
       "5       1     183      55  3.327273\n",
       "8       0     180      56  3.214286"
      ]
     },
     "execution_count": 46,
     "metadata": {},
     "output_type": "execute_result"
    }
   ],
   "source": [
    "# Filter - similar like in numpy\n",
    "df[ df.ratio > 3.15 ]"
   ]
  },
  {
   "cell_type": "code",
   "execution_count": 51,
   "metadata": {},
   "outputs": [],
   "source": [
    "# Deleting - non error one, cuz of if\n",
    "if 'ratio' in df: del df['ratio']"
   ]
  },
  {
   "cell_type": "code",
   "execution_count": null,
   "metadata": {
    "collapsed": true
   },
   "outputs": [],
   "source": []
  }
 ],
 "metadata": {
  "kernelspec": {
   "display_name": "Python 3",
   "language": "python",
   "name": "python3"
  },
  "language_info": {
   "codemirror_mode": {
    "name": "ipython",
    "version": 3
   },
   "file_extension": ".py",
   "mimetype": "text/x-python",
   "name": "python",
   "nbconvert_exporter": "python",
   "pygments_lexer": "ipython3",
   "version": "3.6.1"
  }
 },
 "nbformat": 4,
 "nbformat_minor": 2
}
